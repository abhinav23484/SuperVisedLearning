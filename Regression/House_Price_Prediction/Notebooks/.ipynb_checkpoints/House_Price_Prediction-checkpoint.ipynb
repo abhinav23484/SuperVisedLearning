{
 "cells": [
  {
   "cell_type": "markdown",
   "id": "b174140a-2524-42ad-a0e9-34844e070fd1",
   "metadata": {},
   "source": [
    "# Exploratory Data Analysis"
   ]
  },
  {
   "cell_type": "markdown",
   "id": "738eadf6-68a6-436a-b055-40b1e7758000",
   "metadata": {},
   "source": [
    "*Import Dependencies*"
   ]
  },
  {
   "cell_type": "code",
   "execution_count": 1,
   "id": "83845e0a-9e43-4598-8c03-0bc6c9b28366",
   "metadata": {},
   "outputs": [],
   "source": [
    "import pandas as pd\n",
    "import matplotlib.pyplot as plt"
   ]
  },
  {
   "cell_type": "code",
   "execution_count": null,
   "id": "1b52c431-d1f6-4d3b-a72a-cac36a39fbb9",
   "metadata": {},
   "outputs": [],
   "source": []
  }
 ],
 "metadata": {
  "kernelspec": {
   "display_name": "Python 3 (ipykernel)",
   "language": "python",
   "name": "python3"
  },
  "language_info": {
   "codemirror_mode": {
    "name": "ipython",
    "version": 3
   },
   "file_extension": ".py",
   "mimetype": "text/x-python",
   "name": "python",
   "nbconvert_exporter": "python",
   "pygments_lexer": "ipython3",
   "version": "3.10.11"
  }
 },
 "nbformat": 4,
 "nbformat_minor": 5
}
